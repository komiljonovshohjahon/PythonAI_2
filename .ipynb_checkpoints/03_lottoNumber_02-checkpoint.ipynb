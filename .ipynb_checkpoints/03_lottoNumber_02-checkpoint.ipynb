{
 "cells": [
  {
   "cell_type": "code",
   "execution_count": 7,
   "id": "serious-responsibility",
   "metadata": {},
   "outputs": [],
   "source": [
    "import random"
   ]
  },
  {
   "cell_type": "code",
   "execution_count": 11,
   "id": "temporal-brooks",
   "metadata": {},
   "outputs": [
    {
     "name": "stdout",
     "output_type": "stream",
     "text": [
      "Bonus: 25\n",
      "First 6 numbers: {7, 9, 15, 21, 25, 29}"
     ]
    }
   ],
   "source": [
    "# Lotto using Set\n",
    "lotto = set()\n",
    "\n",
    "# 6 numbers Maker\n",
    "\n",
    "while True:\n",
    "    number  = random.randrange(1, 45)\n",
    "    lotto.add(number)\n",
    "    if len(lotto) == 6:\n",
    "        break\n",
    "print(f'First 6 numbers: {lotto}', end='')\n",
    "\n",
    "# Bonus Maker\n",
    "\n",
    "while True:\n",
    "    bonus = random.randrange()\n",
    "    if bonus not in lotto:\n",
    "        break\n",
    "        \n",
    "print(f'Bonus: {bonus}', end='')"
   ]
  },
  {
   "cell_type": "code",
   "execution_count": null,
   "id": "subject-preservation",
   "metadata": {},
   "outputs": [],
   "source": []
  }
 ],
 "metadata": {
  "kernelspec": {
   "display_name": "Python 3",
   "language": "python",
   "name": "python3"
  },
  "language_info": {
   "codemirror_mode": {
    "name": "ipython",
    "version": 3
   },
   "file_extension": ".py",
   "mimetype": "text/x-python",
   "name": "python",
   "nbconvert_exporter": "python",
   "pygments_lexer": "ipython3",
   "version": "3.9.1"
  }
 },
 "nbformat": 4,
 "nbformat_minor": 5
}

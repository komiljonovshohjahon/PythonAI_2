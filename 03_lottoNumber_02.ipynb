{
 "cells": [
  {
   "cell_type": "code",
   "execution_count": 7,
   "id": "continental-extension",
   "metadata": {},
   "outputs": [],
   "source": [
    "import random"
   ]
  },
  {
   "cell_type": "code",
   "execution_count": 21,
   "id": "regional-chamber",
   "metadata": {},
   "outputs": [
    {
     "name": "stdout",
     "output_type": "stream",
     "text": [
      "First 6 numbers: {33, 11, 44, 14, 21, 27}\n",
      "Bonus: 8"
     ]
    }
   ],
   "source": [
    "# Lotto using Set\n",
    "lotto = set()\n",
    "\n",
    "# 6 numbers Maker\n",
    "\n",
    "while True:\n",
    "    number  = random.randrange(1, 45)\n",
    "    lotto.add(number)\n",
    "    if len(lotto) == 6:\n",
    "        break\n",
    "print(f'First 6 numbers: {lotto}')\n",
    "\n",
    "# Bonus Maker\n",
    "\n",
    "while True:\n",
    "    bonus = random.randrange(1, 45)\n",
    "    if bonus not in lotto:\n",
    "        break\n",
    "        \n",
    "print(f'Bonus: {bonus}', end='')"
   ]
  }
 ],
 "metadata": {
  "kernelspec": {
   "display_name": "Python 3",
   "language": "python",
   "name": "python3"
  },
  "language_info": {
   "codemirror_mode": {
    "name": "ipython",
    "version": 3
   },
   "file_extension": ".py",
   "mimetype": "text/x-python",
   "name": "python",
   "nbconvert_exporter": "python",
   "pygments_lexer": "ipython3",
   "version": "3.9.1"
  }
 },
 "nbformat": 4,
 "nbformat_minor": 5
}

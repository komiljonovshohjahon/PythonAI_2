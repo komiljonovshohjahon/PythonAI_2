{
 "cells": [
  {
   "cell_type": "code",
   "execution_count": 1,
   "id": "referenced-health",
   "metadata": {},
   "outputs": [],
   "source": [
    "import random"
   ]
  },
  {
   "cell_type": "code",
   "execution_count": 34,
   "id": "dietary-entrance",
   "metadata": {},
   "outputs": [
    {
     "name": "stdout",
     "output_type": "stream",
     "text": [
      "23 {23}\n",
      "19 {19, 23}\n",
      " 3 {3, 19, 23}\n",
      "33 {3, 33, 19, 23}\n",
      "45 {33, 3, 45, 19, 23}\n",
      "41 {33, 3, 41, 45, 19, 23}\n",
      "1등 번호 : {33, 3, 41, 45, 19, 23}\n",
      "34\n",
      "보너스 번호 : 34\n"
     ]
    }
   ],
   "source": [
    "# 로또 번호를 기억할 빈 set을 만든다.\n",
    "lotto = set()\n",
    "# print(type(lotto))\n",
    "\n",
    "# 1등 번호\n",
    "# 무한 루프를 돌려주는 이유는 랜덤으로 발생시킨 숫자가 몇 번 중복될 지 모르기 때문이다.\n",
    "while True:\n",
    "    number = random.randrange(1, 46)\n",
    "    lotto.add(number)\n",
    "    print('{0:2d} {1}'.format(number, lotto))\n",
    "    # set에 중복되지 않는 숫자가 6개 저장되면 무한 루프를 탈출시킨다.\n",
    "    if len(lotto) == 6:\n",
    "        break\n",
    "# ===== while True 끝\n",
    "print('1등 번호 : {}'.format(lotto))\n",
    "\n",
    "# 보너스 번호\n",
    "while True:\n",
    "    bonus = random.randrange(1, 46)\n",
    "    print(bonus)\n",
    "    # 보너스 번호가 로또 번호에 없을 경우 무한 루프를 탈출시킨다.\n",
    "    if bonus not in lotto:\n",
    "        break\n",
    "# ===== while True 끝\n",
    "print('보너스 번호 : {}'.format(bonus))"
   ]
  },
  {
   "cell_type": "code",
   "execution_count": null,
   "id": "green-parliament",
   "metadata": {},
   "outputs": [],
   "source": []
  }
 ],
 "metadata": {
  "kernelspec": {
   "display_name": "Python 3",
   "language": "python",
   "name": "python3"
  },
  "language_info": {
   "codemirror_mode": {
    "name": "ipython",
    "version": 3
   },
   "file_extension": ".py",
   "mimetype": "text/x-python",
   "name": "python",
   "nbconvert_exporter": "python",
   "pygments_lexer": "ipython3",
   "version": "3.6.8"
  }
 },
 "nbformat": 4,
 "nbformat_minor": 5
}

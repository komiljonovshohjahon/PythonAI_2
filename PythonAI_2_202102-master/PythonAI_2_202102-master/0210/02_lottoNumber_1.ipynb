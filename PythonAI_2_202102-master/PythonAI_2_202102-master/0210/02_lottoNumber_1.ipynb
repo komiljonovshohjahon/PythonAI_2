{
 "cells": [
  {
   "cell_type": "code",
   "execution_count": 1,
   "id": "southeast-washington",
   "metadata": {},
   "outputs": [],
   "source": [
    "import random # randrange() 메소드를 사용하기 위해 import 시킨다.\n",
    "import time   # sleep() 메소를 사용하기 위해 import 시킨다."
   ]
  },
  {
   "cell_type": "code",
   "execution_count": 23,
   "id": "resistant-opportunity",
   "metadata": {},
   "outputs": [
    {
     "name": "stdout",
     "output_type": "stream",
     "text": [
      "1등 번호 : 34 26 33 14 31 39 보너스 :  8\n"
     ]
    }
   ],
   "source": [
    "# 로또 추첨기 역할을 할 리스트를 만들고 1 ~ 45로 초기화 시킨다.\n",
    "# lotto = []\n",
    "# for i in range(1, 46):\n",
    "    # lotto.append(i)\n",
    "lotto = [i for i in range(1, 46)]\n",
    "# print(lotto)\n",
    "\n",
    "'''\n",
    "# 섞기전 상태를 출력한다. => 한 줄에 10개씩 출력한다.\n",
    "for i in range(len(lotto)):\n",
    "    print('{0:2d} '.format(lotto[i]), end = '')\n",
    "    if (i + 1) % 10 == 0:\n",
    "        print()\n",
    "    # ===== if (i + 1) % 10 == 0 끝\n",
    "# ===== for i\n",
    "print('\\n' + '=' * 30 + ' 섞기전')\n",
    "'''\n",
    "\n",
    "# 섞는다.\n",
    "# lotto[0]와(고정) lotto[1] ~ lotto[44] 중에서 랜덤한 위치의 값을 선택해서 두 기억 장소의 데이터를 교환한다.\n",
    "for i in range(1000000):\n",
    "    # lotto[1] ~ lotto[44] 중에서 랜덤한 위치를 선택한다.\n",
    "    # randrange(a, b) => a 부터 b - 1 사이에서 랜덤한 숫자를 추출한다.\n",
    "    r = random.randrange(1, 45)\n",
    "    # lotto[0]와 lotto[r]에 저장된 데이터를 교환한다.\n",
    "    # temp = lotto[0]\n",
    "    # lotto[0] = lotto[r]\n",
    "    # lotto[r] = temp\n",
    "    lotto[0], lotto[r] = lotto[r], lotto[0]\n",
    "# ===== for i 끝\n",
    "\n",
    "'''\n",
    "# 섞은후 상태를 출력한다. => 한 줄에 10개씩 출력한다.\n",
    "for i in range(len(lotto)):\n",
    "    print('{0:2d} '.format(lotto[i]), end = '')\n",
    "    if (i + 1) % 10 == 0:\n",
    "        print()\n",
    "    # ===== if (i + 1) % 10 == 0 끝\n",
    "# ===== for i\n",
    "print('\\n' + '=' * 30 + ' 섞은후')\n",
    "'''\n",
    "\n",
    "# 1등 번호와 보너스 번호를 출력한다.\n",
    "print('1등 번호 : ', end = '')\n",
    "for i in range(6):\n",
    "    print('{0:2d} '.format(lotto[i]), end = '')\n",
    "    # time 모듈의 sleep() 메소드는 인수로 지정된 시간만큼 프로그램을 일시적으로 멈춘다.\n",
    "    # sleep() 메소드에 프로그램을 멈추는 시간은 '초' 단위로 지정한다.\n",
    "    time.sleep(1)\n",
    "# ===== for i 끝\n",
    "print('보너스 : {0:2d}'.format(lotto[6]))"
   ]
  },
  {
   "cell_type": "code",
   "execution_count": 29,
   "id": "stock-communication",
   "metadata": {},
   "outputs": [
    {
     "name": "stdout",
     "output_type": "stream",
     "text": [
      "흰공 : 24 44 61 39 11 빨강공 :  2\n"
     ]
    }
   ],
   "source": [
    "# 미국 로또 => powerball, 1 ~ 69 => 5개, 1 ~ 26 => 1개\n",
    "powerball = [i for i in range(1, 70)]\n",
    "for i in range(1000000):\n",
    "    r = random.randrange(1, 69)\n",
    "    powerball[0], powerball[r] = powerball[r], powerball[0]\n",
    "print('흰공 : ', end = '')\n",
    "for i in range(5):\n",
    "    print('{0:2d} '.format(powerball[i]), end = '')\n",
    "    time.sleep(1)\n",
    "print('빨강공 : {0:2d}'.format(random.randrange(1, 27)))"
   ]
  },
  {
   "cell_type": "code",
   "execution_count": null,
   "id": "respiratory-oxford",
   "metadata": {},
   "outputs": [],
   "source": []
  },
  {
   "cell_type": "code",
   "execution_count": null,
   "id": "configured-nomination",
   "metadata": {},
   "outputs": [],
   "source": []
  },
  {
   "cell_type": "code",
   "execution_count": null,
   "id": "executive-peninsula",
   "metadata": {},
   "outputs": [],
   "source": []
  },
  {
   "cell_type": "code",
   "execution_count": null,
   "id": "possible-nebraska",
   "metadata": {},
   "outputs": [],
   "source": []
  },
  {
   "cell_type": "code",
   "execution_count": null,
   "id": "square-grade",
   "metadata": {},
   "outputs": [],
   "source": []
  }
 ],
 "metadata": {
  "kernelspec": {
   "display_name": "Python 3",
   "language": "python",
   "name": "python3"
  },
  "language_info": {
   "codemirror_mode": {
    "name": "ipython",
    "version": 3
   },
   "file_extension": ".py",
   "mimetype": "text/x-python",
   "name": "python",
   "nbconvert_exporter": "python",
   "pygments_lexer": "ipython3",
   "version": "3.6.8"
  }
 },
 "nbformat": 4,
 "nbformat_minor": 5
}

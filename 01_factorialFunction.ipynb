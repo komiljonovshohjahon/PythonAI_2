{
 "cells": [
  {
   "cell_type": "code",
   "execution_count": 3,
   "id": "central-convertible",
   "metadata": {},
   "outputs": [],
   "source": [
    "# factorial\n",
    "def factorial(num):\n",
    "    fact = 1\n",
    "    for i in range(1, num+1):\n",
    "        fact *= i\n",
    "    return fact"
   ]
  },
  {
   "cell_type": "code",
   "execution_count": 4,
   "id": "special-kenya",
   "metadata": {},
   "outputs": [
    {
     "name": "stdout",
     "output_type": "stream",
     "text": [
      "Enter a number: 5\n",
      "120\n"
     ]
    }
   ],
   "source": [
    "num = int(input(\"Enter a number: \"))\n",
    "fact = factorial(num)\n",
    "print(fact)"
   ]
  },
  {
   "cell_type": "code",
   "execution_count": 13,
   "id": "toxic-stretch",
   "metadata": {},
   "outputs": [],
   "source": [
    "# factorial recursion\n",
    "def factorialRecursion(num):\n",
    "    if num == 1:\n",
    "        return 1\n",
    "    return num * factorialRecursion(num-1)"
   ]
  },
  {
   "cell_type": "code",
   "execution_count": 14,
   "id": "significant-discovery",
   "metadata": {},
   "outputs": [
    {
     "name": "stdout",
     "output_type": "stream",
     "text": [
      "Enter a number: 5\n",
      "120\n"
     ]
    }
   ],
   "source": [
    "num = int(input(\"Enter a number: \"))\n",
    "fact = factorialRecursion(num)\n",
    "print(fact)"
   ]
  },
  {
   "cell_type": "code",
   "execution_count": null,
   "id": "pointed-wichita",
   "metadata": {},
   "outputs": [],
   "source": []
  }
 ],
 "metadata": {
  "kernelspec": {
   "display_name": "Python 3",
   "language": "python",
   "name": "python3"
  },
  "language_info": {
   "codemirror_mode": {
    "name": "ipython",
    "version": 3
   },
   "file_extension": ".py",
   "mimetype": "text/x-python",
   "name": "python",
   "nbconvert_exporter": "python",
   "pygments_lexer": "ipython3",
   "version": "3.9.1"
  }
 },
 "nbformat": 4,
 "nbformat_minor": 5
}
